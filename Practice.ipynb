{
 "cells": [
  {
   "cell_type": "code",
   "execution_count": 3,
   "id": "595b2736-3445-4549-b444-d581b4b97784",
   "metadata": {},
   "outputs": [
    {
     "name": "stdout",
     "output_type": "stream",
     "text": [
      "Boo(yeah)lian\n"
     ]
    }
   ],
   "source": [
    "test = True\n",
    "if test :\n",
    "\tprint ( \"Boo(yeah)lian\" ) \n",
    "else:\n",
    "\tprint ( \"Ami Banglay Gaan Gai…\")"
   ]
  },
  {
   "cell_type": "code",
   "execution_count": 17,
   "id": "162c6efb-4e0c-430c-a981-d3b4cd356158",
   "metadata": {},
   "outputs": [
    {
     "name": "stdin",
     "output_type": "stream",
     "text": [
      "Enter the integer you want to find factorial of: 1\n"
     ]
    },
    {
     "data": {
      "text/plain": [
       "1"
      ]
     },
     "execution_count": 17,
     "metadata": {},
     "output_type": "execute_result"
    }
   ],
   "source": [
    "def fact(n):\n",
    "    if(n<0):\n",
    "        return 0\n",
    "    elif(n==0 | n==1):\n",
    "        return 1\n",
    "    else:\n",
    "        fact = 1\n",
    "        for i in range(2,n+1):\n",
    "            fact = fact*i\n",
    "            i = i + 1\n",
    "        return fact\n",
    "            \n",
    "num = int(input(\"Enter the integer you want to find factorial of:\"))\n",
    "fact(num)\n",
    "\n"
   ]
  },
  {
   "cell_type": "code",
   "execution_count": 8,
   "id": "c7e514a7-c72b-44bb-a7f2-59835b5d57e6",
   "metadata": {},
   "outputs": [
    {
     "name": "stdin",
     "output_type": "stream",
     "text": [
      "Please enter first integer:  12\n",
      "Please enter second integer:  12\n",
      "Please enter third integer:  2\n"
     ]
    },
    {
     "name": "stdout",
     "output_type": "stream",
     "text": [
      "The greatest integer among the three inputs is:  12\n"
     ]
    }
   ],
   "source": [
    "int1 = int(input('Please enter first integer: '))\n",
    "int2 = int(input('Please enter second integer: '))\n",
    "int3 = int(input('Please enter third integer: '))\n",
    "if int1==int2==int3:\n",
    "    print('All the integers are equal')\n",
    "else:\n",
    "    temp = [int1, int2, int3]\n",
    "    temp.sort()\n",
    "    print('The greatest integer among the three inputs is: ', temp[-1])\n"
   ]
  },
  {
   "cell_type": "code",
   "execution_count": 9,
   "id": "f6e140de-0be8-4f77-9df4-4d37c3242eda",
   "metadata": {},
   "outputs": [],
   "source": [
    "life = ['Eat','Sleep',['Happiness']]"
   ]
  },
  {
   "cell_type": "code",
   "execution_count": 13,
   "id": "9d429289-f717-4c28-a30a-86a0a9363852",
   "metadata": {},
   "outputs": [
    {
     "data": {
      "text/plain": [
       "['Eat', 'Sleep', ['Project']]"
      ]
     },
     "execution_count": 13,
     "metadata": {},
     "output_type": "execute_result"
    }
   ],
   "source": [
    "life[2][0]= 'Project'\n",
    "life"
   ]
  },
  {
   "cell_type": "code",
   "execution_count": 4,
   "id": "2bd9f483-1286-4b3a-84a3-f67bfb237fcf",
   "metadata": {},
   "outputs": [
    {
     "name": "stdout",
     "output_type": "stream",
     "text": [
      "[1 2 3 4]\n"
     ]
    },
    {
     "data": {
      "text/plain": [
       "(4,)"
      ]
     },
     "execution_count": 4,
     "metadata": {},
     "output_type": "execute_result"
    }
   ],
   "source": [
    "import numpy as np\n",
    "arr1 = np.array([1,2,3,4])\n",
    "print(arr1)\n",
    "arr1.shape\n"
   ]
  },
  {
   "cell_type": "code",
   "execution_count": 5,
   "id": "4ac15f4a-1d24-4f65-95cb-529c4c2e57cc",
   "metadata": {},
   "outputs": [
    {
     "data": {
      "text/plain": [
       "(3, 4)"
      ]
     },
     "execution_count": 5,
     "metadata": {},
     "output_type": "execute_result"
    }
   ],
   "source": [
    "arr2 = np.array([[1,2,3,4],\n",
    "                 [5,6,7,8],\n",
    "                 [9,1,2,3]])\n",
    "arr2.shape"
   ]
  },
  {
   "cell_type": "code",
   "execution_count": 7,
   "id": "15b415eb-9ecc-47a6-9d09-00856fdacc53",
   "metadata": {},
   "outputs": [
    {
     "name": "stdout",
     "output_type": "stream",
     "text": [
      "1\n",
      "2\n"
     ]
    }
   ],
   "source": [
    "print(arr1.ndim)\n",
    "print(arr2.ndim)"
   ]
  },
  {
   "cell_type": "code",
   "execution_count": 8,
   "id": "6381dfe3-576b-4632-8b4c-f56d1bb83aee",
   "metadata": {},
   "outputs": [
    {
     "data": {
      "text/plain": [
       "array([[ 2,  4,  6,  8],\n",
       "       [ 6,  8, 10, 12],\n",
       "       [10,  3,  5,  7]])"
      ]
     },
     "execution_count": 8,
     "metadata": {},
     "output_type": "execute_result"
    }
   ],
   "source": [
    "arr1 + arr2"
   ]
  },
  {
   "cell_type": "code",
   "execution_count": 9,
   "id": "7ca1aab5-4098-4a24-bf40-a9b46486c953",
   "metadata": {},
   "outputs": [
    {
     "data": {
      "text/plain": [
       "(3, 2, 4)"
      ]
     },
     "execution_count": 9,
     "metadata": {},
     "output_type": "execute_result"
    }
   ],
   "source": [
    "arr3 = np.array([[[11,12,13,14],\n",
    "                  [13,14,15,19]],\n",
    "                 [[15,16,17,21],\n",
    "                  [63,92,36,18]],\n",
    "                 [[98,32,81,23],\n",
    "                  [17,18,19.5,43]]])\n",
    "arr3.shape"
   ]
  },
  {
   "cell_type": "code",
   "execution_count": 1,
   "id": "cd007a7b-d7d0-4ee1-a0cf-36a2fd194b85",
   "metadata": {},
   "outputs": [
    {
     "data": {
      "text/plain": [
       "'C:\\\\Users\\\\shova\\\\Python\\\\Jupyter'"
      ]
     },
     "execution_count": 1,
     "metadata": {},
     "output_type": "execute_result"
    }
   ],
   "source": [
    "import os \n",
    "os.getcwd()"
   ]
  },
  {
   "cell_type": "code",
   "execution_count": 12,
   "id": "fb6bcec9-4f0e-40a5-ace4-30e54b59c9d7",
   "metadata": {},
   "outputs": [
    {
     "data": {
      "text/plain": [
       "['.ipynb_checkpoints',\n",
       " 'Kruskal Wallis.ipynb',\n",
       " 'Practice.ipynb',\n",
       " 'python problems-Copy1.ipynb',\n",
       " 'python problems.py']"
      ]
     },
     "execution_count": 12,
     "metadata": {},
     "output_type": "execute_result"
    }
   ],
   "source": [
    "os.listdir('.')"
   ]
  },
  {
   "cell_type": "code",
   "execution_count": 2,
   "id": "696ab94d-2d72-41cd-a5fc-e421934e368c",
   "metadata": {},
   "outputs": [],
   "source": [
    " os.makedirs('./data')"
   ]
  },
  {
   "cell_type": "code",
   "execution_count": 36,
   "id": "398388bc-9036-4bb8-a01b-7f1d26a9ab0a",
   "metadata": {},
   "outputs": [
    {
     "name": "stdout",
     "output_type": "stream",
     "text": [
      "200000,12,0.1\n",
      "amount,duration,rate,down_payment\n",
      "100000,36,0.08,20000\n",
      "200000,12,0.1 \n",
      " 628400,120,0.12,100000 \n",
      " 4637400,240,0.06 \n",
      " 42900,90,0.07,8900 \n",
      " 916000,16,0.13 \n",
      " 45230,48,0.08,4300\n",
      " 991360,99,0.08 \n",
      " 423000,27,0.09,47200\n"
     ]
    }
   ],
   "source": [
    "with open('./data/loans1.txt', mode = 'w') as file1:\n",
    "    file1.write('amount,duration,rate,down_payment\\n100000,36,0.08,20000\\n200000,12,0.1 \\n 628400,120,0.12,100000 \\n 4637400,240,0.06 \\n 42900,90,0.07,8900 \\n 916000,16,0.13 \\n 45230,48,0.08,4300\\n 991360,99,0.08 \\n 423000,27,0.09,47200')\n",
    "with open('./data/loans1.txt', mode = 'r') as file1 : \n",
    "    file1_lines = file1.readlines()\n",
    "with open('./data/loans1.txt', mode = 'r') as file1 :\n",
    "    file1_read = file1.read()\n",
    "\n",
    "print(file1_lines[2].strip())\n",
    "print(file1_read)\n",
    "    "
   ]
  },
  {
   "cell_type": "code",
   "execution_count": null,
   "id": "c4c9dfaf-2459-464f-bd55-4722419b8785",
   "metadata": {},
   "outputs": [],
   "source": []
  },
  {
   "cell_type": "code",
   "execution_count": 45,
   "id": "9cfada46-f534-4f5f-80ea-d3b003c553cf",
   "metadata": {},
   "outputs": [
    {
     "name": "stdout",
     "output_type": "stream",
     "text": [
      "[{'amount': 100000.0, 'duration': 36.0, 'rate': 0.08, 'down_payment': 20000.0}, {'amount': 200000.0, 'duration': 12.0, 'rate': 0.1, 'down_payment': 0.0}, {'amount': 628400.0, 'duration': 120.0, 'rate': 0.12, 'down_payment': 100000.0}, {'amount': 4637400.0, 'duration': 240.0, 'rate': 0.06, 'down_payment': 0.0}, {'amount': 42900.0, 'duration': 90.0, 'rate': 0.07, 'down_payment': 8900.0}, {'amount': 916000.0, 'duration': 16.0, 'rate': 0.13, 'down_payment': 0.0}, {'amount': 45230.0, 'duration': 48.0, 'rate': 0.08, 'down_payment': 4300.0}, {'amount': 991360.0, 'duration': 99.0, 'rate': 0.08, 'down_payment': 0.0}, {'amount': 423000.0, 'duration': 27.0, 'rate': 0.09, 'down_payment': 47200.0}]\n"
     ]
    }
   ],
   "source": [
    "header = file1_lines[0].strip().split(',')\n",
    "key =[]\n",
    "loans = []\n",
    "\n",
    "\n",
    "for elem in header:\n",
    "    key.append(elem)\n",
    "    \n",
    "for item in file1_lines[1:]:\n",
    "    temp = item.strip().split(',')\n",
    "    i=0\n",
    "    if len(temp)==3:\n",
    "         dict = {key[i]:float(temp[i]), key[i+1] : float(temp[i+1]), key[i+2] : float(temp[i+2]), key[i+3] : float('0')}\n",
    "    else:\n",
    "        dict = {key[i]:float(temp[i]), key[i+1] : float(temp[i+1]), key[i+2] : float(temp[i+2]), key[i+3] : float(temp[i+3])}\n",
    "    loans.append(dict)\n",
    "\n",
    "print(loans)\n",
    "    \n",
    "    "
   ]
  },
  {
   "cell_type": "code",
   "execution_count": null,
   "id": "30bcaeff-c3fe-4c7d-b1bd-7e4210ca0b22",
   "metadata": {},
   "outputs": [],
   "source": []
  },
  {
   "cell_type": "code",
   "execution_count": 53,
   "id": "3e81d915-db17-44ed-9b15-7b0c3e0c531c",
   "metadata": {},
   "outputs": [
    {
     "data": {
      "text/plain": [
       "pandas.core.frame.DataFrame"
      ]
     },
     "execution_count": 53,
     "metadata": {},
     "output_type": "execute_result"
    }
   ],
   "source": [
    "import pandas as pd\n",
    "fifa_df = pd.read_excel('fifa data Nan.xlsx')\n",
    "type(fifa_df )\n"
   ]
  },
  {
   "cell_type": "code",
   "execution_count": 54,
   "id": "fe09d407-3598-4da7-9794-94ed74adcdcf",
   "metadata": {},
   "outputs": [
    {
     "name": "stdout",
     "output_type": "stream",
     "text": [
      "<class 'pandas.core.frame.DataFrame'>\n",
      "RangeIndex: 2001 entries, 0 to 2000\n",
      "Data columns (total 6 columns):\n",
      " #   Column     Non-Null Count  Dtype  \n",
      "---  ------     --------------  -----  \n",
      " 0   Name       1999 non-null   object \n",
      " 1   Age        2001 non-null   int64  \n",
      " 2   Overall    2001 non-null   int64  \n",
      " 3   Potential  2001 non-null   int64  \n",
      " 4   Value      2001 non-null   float64\n",
      " 5   Wage       2001 non-null   int64  \n",
      "dtypes: float64(1), int64(4), object(1)\n",
      "memory usage: 93.9+ KB\n"
     ]
    }
   ],
   "source": [
    "fifa_df.info()"
   ]
  },
  {
   "cell_type": "code",
   "execution_count": 57,
   "id": "10263421-4d1f-409b-9a82-cdd4e882e1a1",
   "metadata": {},
   "outputs": [],
   "source": [
    "fifa_df = fifa_df.iloc[0:200,]"
   ]
  },
  {
   "cell_type": "code",
   "execution_count": 58,
   "id": "3717620c-81af-48ff-8bde-feabfaf402b1",
   "metadata": {},
   "outputs": [
    {
     "name": "stdout",
     "output_type": "stream",
     "text": [
      "                  Name  Age  Overall  Potential  Value  Wage\n",
      "0             L. Messi   31       94         94  110.5   565\n",
      "1    Cristiano Ronaldo   33       94         94   77.0   405\n",
      "2            Neymar Jr   26       92         93  118.5   290\n",
      "3               De Gea   27       91         93   72.0   260\n",
      "4         K. De Bruyne   27       91         92  102.0   355\n",
      "..                 ...  ...      ...        ...    ...   ...\n",
      "195           K. Kampl   27       83         83   26.5    74\n",
      "196               Neto   28       83         84   21.0    41\n",
      "197         O. Baumann   28       83         84   21.0    42\n",
      "198           I. Gueye   28       83         83   21.0   125\n",
      "199      H. Mkhitaryan   29       83         83   25.5   145\n",
      "\n",
      "[200 rows x 6 columns]\n"
     ]
    }
   ],
   "source": [
    "print(fifa_df)"
   ]
  },
  {
   "cell_type": "code",
   "execution_count": 61,
   "id": "44a8755d-e89d-4efc-8a9a-f144906b035b",
   "metadata": {},
   "outputs": [
    {
     "name": "stdout",
     "output_type": "stream",
     "text": [
      "<class 'pandas.core.frame.DataFrame'>\n",
      "RangeIndex: 200 entries, 0 to 199\n",
      "Data columns (total 6 columns):\n",
      " #   Column     Non-Null Count  Dtype  \n",
      "---  ------     --------------  -----  \n",
      " 0   Name       198 non-null    object \n",
      " 1   Age        200 non-null    int64  \n",
      " 2   Overall    200 non-null    int64  \n",
      " 3   Potential  200 non-null    int64  \n",
      " 4   Value      200 non-null    float64\n",
      " 5   Wage       200 non-null    int64  \n",
      "dtypes: float64(1), int64(4), object(1)\n",
      "memory usage: 9.5+ KB\n"
     ]
    }
   ],
   "source": [
    "fifa_df.info()"
   ]
  },
  {
   "cell_type": "code",
   "execution_count": 62,
   "id": "39b5ef55-a2e1-4ddf-9c0a-ea73e01a91e7",
   "metadata": {},
   "outputs": [
    {
     "data": {
      "text/html": [
       "<div>\n",
       "<style scoped>\n",
       "    .dataframe tbody tr th:only-of-type {\n",
       "        vertical-align: middle;\n",
       "    }\n",
       "\n",
       "    .dataframe tbody tr th {\n",
       "        vertical-align: top;\n",
       "    }\n",
       "\n",
       "    .dataframe thead th {\n",
       "        text-align: right;\n",
       "    }\n",
       "</style>\n",
       "<table border=\"1\" class=\"dataframe\">\n",
       "  <thead>\n",
       "    <tr style=\"text-align: right;\">\n",
       "      <th></th>\n",
       "      <th>Age</th>\n",
       "      <th>Overall</th>\n",
       "      <th>Potential</th>\n",
       "      <th>Value</th>\n",
       "      <th>Wage</th>\n",
       "    </tr>\n",
       "  </thead>\n",
       "  <tbody>\n",
       "    <tr>\n",
       "      <th>count</th>\n",
       "      <td>200.000000</td>\n",
       "      <td>200.000000</td>\n",
       "      <td>200.000000</td>\n",
       "      <td>200.000000</td>\n",
       "      <td>200.000000</td>\n",
       "    </tr>\n",
       "    <tr>\n",
       "      <th>mean</th>\n",
       "      <td>27.495000</td>\n",
       "      <td>85.470000</td>\n",
       "      <td>87.170000</td>\n",
       "      <td>40.021000</td>\n",
       "      <td>143.755000</td>\n",
       "    </tr>\n",
       "    <tr>\n",
       "      <th>std</th>\n",
       "      <td>3.540147</td>\n",
       "      <td>2.389066</td>\n",
       "      <td>2.763928</td>\n",
       "      <td>18.807949</td>\n",
       "      <td>91.707121</td>\n",
       "    </tr>\n",
       "    <tr>\n",
       "      <th>min</th>\n",
       "      <td>19.000000</td>\n",
       "      <td>83.000000</td>\n",
       "      <td>83.000000</td>\n",
       "      <td>4.000000</td>\n",
       "      <td>15.000000</td>\n",
       "    </tr>\n",
       "    <tr>\n",
       "      <th>25%</th>\n",
       "      <td>25.000000</td>\n",
       "      <td>84.000000</td>\n",
       "      <td>85.000000</td>\n",
       "      <td>28.375000</td>\n",
       "      <td>80.750000</td>\n",
       "    </tr>\n",
       "    <tr>\n",
       "      <th>50%</th>\n",
       "      <td>27.000000</td>\n",
       "      <td>85.000000</td>\n",
       "      <td>87.000000</td>\n",
       "      <td>34.750000</td>\n",
       "      <td>125.000000</td>\n",
       "    </tr>\n",
       "    <tr>\n",
       "      <th>75%</th>\n",
       "      <td>30.000000</td>\n",
       "      <td>87.000000</td>\n",
       "      <td>89.000000</td>\n",
       "      <td>47.375000</td>\n",
       "      <td>191.250000</td>\n",
       "    </tr>\n",
       "    <tr>\n",
       "      <th>max</th>\n",
       "      <td>40.000000</td>\n",
       "      <td>94.000000</td>\n",
       "      <td>95.000000</td>\n",
       "      <td>118.500000</td>\n",
       "      <td>565.000000</td>\n",
       "    </tr>\n",
       "  </tbody>\n",
       "</table>\n",
       "</div>"
      ],
      "text/plain": [
       "              Age     Overall   Potential       Value        Wage\n",
       "count  200.000000  200.000000  200.000000  200.000000  200.000000\n",
       "mean    27.495000   85.470000   87.170000   40.021000  143.755000\n",
       "std      3.540147    2.389066    2.763928   18.807949   91.707121\n",
       "min     19.000000   83.000000   83.000000    4.000000   15.000000\n",
       "25%     25.000000   84.000000   85.000000   28.375000   80.750000\n",
       "50%     27.000000   85.000000   87.000000   34.750000  125.000000\n",
       "75%     30.000000   87.000000   89.000000   47.375000  191.250000\n",
       "max     40.000000   94.000000   95.000000  118.500000  565.000000"
      ]
     },
     "execution_count": 62,
     "metadata": {},
     "output_type": "execute_result"
    }
   ],
   "source": [
    "fifa_df.describe()"
   ]
  },
  {
   "cell_type": "code",
   "execution_count": 63,
   "id": "040bce27-3a95-44a2-91b3-f7faf6db47c1",
   "metadata": {},
   "outputs": [
    {
     "data": {
      "text/plain": [
       "(200, 6)"
      ]
     },
     "execution_count": 63,
     "metadata": {},
     "output_type": "execute_result"
    }
   ],
   "source": [
    "fifa_df.shape"
   ]
  },
  {
   "cell_type": "code",
   "execution_count": 69,
   "id": "cc3a9486-f69b-425b-b668-678e520a6f71",
   "metadata": {},
   "outputs": [
    {
     "data": {
      "text/plain": [
       "0"
      ]
     },
     "execution_count": 69,
     "metadata": {},
     "output_type": "execute_result"
    }
   ],
   "source": [
    "fifa_df.Name.first_valid_index()"
   ]
  },
  {
   "cell_type": "code",
   "execution_count": 3,
   "id": "daaf4b0e-9e50-4a2f-99f7-404743639a16",
   "metadata": {},
   "outputs": [
    {
     "name": "stdout",
     "output_type": "stream",
     "text": [
      "Defaulting to user installation because normal site-packages is not writeable\n",
      "Collecting seaborn\n",
      "  Downloading seaborn-0.12.2-py3-none-any.whl (293 kB)\n",
      "                                              0.0/293.3 kB ? eta -:--:--\n",
      "     ---------------------------------      256.0/293.3 kB 7.9 MB/s eta 0:00:01\n",
      "     -------------------------------------  286.7/293.3 kB 5.9 MB/s eta 0:00:01\n",
      "     -------------------------------------- 293.3/293.3 kB 2.6 MB/s eta 0:00:00\n",
      "Requirement already satisfied: numpy!=1.24.0,>=1.17 in c:\\users\\shova\\appdata\\roaming\\python\\python311\\site-packages (from seaborn) (1.24.3)\n",
      "Requirement already satisfied: pandas>=0.25 in c:\\users\\shova\\appdata\\roaming\\python\\python311\\site-packages (from seaborn) (2.0.3)\n",
      "Requirement already satisfied: matplotlib!=3.6.1,>=3.1 in c:\\users\\shova\\appdata\\roaming\\python\\python311\\site-packages (from seaborn) (3.7.2)\n",
      "Requirement already satisfied: contourpy>=1.0.1 in c:\\users\\shova\\appdata\\roaming\\python\\python311\\site-packages (from matplotlib!=3.6.1,>=3.1->seaborn) (1.1.0)\n",
      "Requirement already satisfied: cycler>=0.10 in c:\\users\\shova\\appdata\\roaming\\python\\python311\\site-packages (from matplotlib!=3.6.1,>=3.1->seaborn) (0.11.0)\n",
      "Requirement already satisfied: fonttools>=4.22.0 in c:\\users\\shova\\appdata\\roaming\\python\\python311\\site-packages (from matplotlib!=3.6.1,>=3.1->seaborn) (4.42.0)\n",
      "Requirement already satisfied: kiwisolver>=1.0.1 in c:\\users\\shova\\appdata\\roaming\\python\\python311\\site-packages (from matplotlib!=3.6.1,>=3.1->seaborn) (1.4.4)\n",
      "Requirement already satisfied: packaging>=20.0 in c:\\users\\shova\\appdata\\roaming\\python\\python311\\site-packages (from matplotlib!=3.6.1,>=3.1->seaborn) (23.1)\n",
      "Requirement already satisfied: pillow>=6.2.0 in c:\\users\\shova\\appdata\\roaming\\python\\python311\\site-packages (from matplotlib!=3.6.1,>=3.1->seaborn) (10.0.0)\n",
      "Requirement already satisfied: pyparsing<3.1,>=2.3.1 in c:\\users\\shova\\appdata\\roaming\\python\\python311\\site-packages (from matplotlib!=3.6.1,>=3.1->seaborn) (3.0.9)\n",
      "Requirement already satisfied: python-dateutil>=2.7 in c:\\users\\shova\\appdata\\roaming\\python\\python311\\site-packages (from matplotlib!=3.6.1,>=3.1->seaborn) (2.8.2)\n",
      "Requirement already satisfied: pytz>=2020.1 in c:\\users\\shova\\appdata\\roaming\\python\\python311\\site-packages (from pandas>=0.25->seaborn) (2023.3)\n",
      "Requirement already satisfied: tzdata>=2022.1 in c:\\users\\shova\\appdata\\roaming\\python\\python311\\site-packages (from pandas>=0.25->seaborn) (2023.3)\n",
      "Requirement already satisfied: six>=1.5 in c:\\users\\shova\\appdata\\roaming\\python\\python311\\site-packages (from python-dateutil>=2.7->matplotlib!=3.6.1,>=3.1->seaborn) (1.16.0)\n",
      "Installing collected packages: seaborn\n",
      "Successfully installed seaborn-0.12.2\n"
     ]
    },
    {
     "name": "stderr",
     "output_type": "stream",
     "text": [
      "\n",
      "[notice] A new release of pip is available: 23.1.2 -> 23.2.1\n",
      "[notice] To update, run: python.exe -m pip install --upgrade pip\n"
     ]
    }
   ],
   "source": [
    "!pip install seaborn"
   ]
  },
  {
   "cell_type": "code",
   "execution_count": 11,
   "id": "df2bcb3e-43d5-4858-a5f2-5726e21781d2",
   "metadata": {},
   "outputs": [],
   "source": [
    "import matplotlib.pyplot as plt\n",
    "import seaborn as sns\n",
    "\n",
    "yield_apples = [2,3,4.5,5,8,9]"
   ]
  },
  {
   "cell_type": "code",
   "execution_count": 6,
   "id": "71c1bd12-d953-42d7-8b18-63fe8139b7c2",
   "metadata": {},
   "outputs": [
    {
     "data": {
      "image/png": "[encoded data removed]",
      "text/plain": [
       "<Figure size 640x480 with 1 Axes>"
      ]
     },
     "metadata": {},
     "output_type": "display_data"
    }
   ],
   "source": [
    "plt.plot(yield_apples);"
   ]
  },
  {
   "cell_type": "code",
   "execution_count": 15,
   "id": "c027e808-05c9-49f7-9d81-dca35ea82203",
   "metadata": {
    "scrolled": true
   },
   "outputs": [
    {
     "data": {
      "image/png": "[encoded data removed]",
      "text/plain": [
       "<Figure size 640x480 with 1 Axes>"
      ]
     },
     "metadata": {},
     "output_type": "display_data"
    }
   ],
   "source": [
    "years = [1659, 1669, 1679, 1689, 1699, 1709]\n",
    "plt.plot(years, yield_apples, marker = 'o');\n",
    "plt.xlabel('Year');\n",
    "plt.ylabel('Yield(tons per hectare)');\n",
    "plt.legend('Apple');\n",
    "sns.set_style(\"darkgrid\")"
   ]
  },
  {
   "cell_type": "code",
   "execution_count": null,
   "id": "530606fb-d752-4665-8935-f921d063a0e7",
   "metadata": {},
   "outputs": [],
   "source": []
  }
 ],
 "metadata": {
  "kernelspec": {
   "display_name": "Python 3 (ipykernel)",
   "language": "python",
   "name": "python3"
  },
  "language_info": {
   "codemirror_mode": {
    "name": "ipython",
    "version": 3
   },
   "file_extension": ".py",
   "mimetype": "text/x-python",
   "name": "python",
   "nbconvert_exporter": "python",
   "pygments_lexer": "ipython3",
   "version": "3.11.4"
  }
 },
 "nbformat": 4,
 "nbformat_minor": 5
}
